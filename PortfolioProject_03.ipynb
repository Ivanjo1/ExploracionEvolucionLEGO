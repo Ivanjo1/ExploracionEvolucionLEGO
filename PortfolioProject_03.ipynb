{
 "cells": [
  {
   "cell_type": "markdown",
   "metadata": {},
   "source": [
    "Explorando la evolucion de lego | Proyecto"
   ]
  },
  {
   "cell_type": "code",
   "execution_count": 1,
   "metadata": {},
   "outputs": [],
   "source": [
    "import pandas as pd"
   ]
  },
  {
   "cell_type": "code",
   "execution_count": 6,
   "metadata": {},
   "outputs": [],
   "source": [
    "df_lego = pd.read_csv('C:/Users/ASUS-72937/Documents/curso-py/parte 1/lego_sets.csv')\n",
    "df_lego.head()"
   ]
  },
  {
   "cell_type": "code",
   "execution_count": 8,
   "metadata": {},
   "outputs": [],
   "source": [
    "df_themes = pd.read_csv('C:/Users/ASUS-72937/Documents/curso-py/parte 1/parent_themes.csv')\n",
    "df_themes.head()"
   ]
  },
  {
   "cell_type": "code",
   "execution_count": 10,
   "metadata": {},
   "outputs": [],
   "source": [
    "#Unir las bases de datos \n",
    "merged = df_lego.merge(df_themes, left_on = 'parent_theme', right_on = 'name')\n",
    "merged.head()"
   ]
  },
  {
   "cell_type": "code",
   "execution_count": 13,
   "metadata": {},
   "outputs": [],
   "source": [
    "#Eliminar la columa duplicada\n",
    "merged.drop(columns= 'name_y', inplace = True)"
   ]
  },
  {
   "cell_type": "code",
   "execution_count": 15,
   "metadata": {},
   "outputs": [],
   "source": [
    "#Ubicar aquellos sets con las licencias de la marca\n",
    "licensed = merged[merged['is_licensed']]\n",
    "licensed.head()"
   ]
  },
  {
   "cell_type": "code",
   "execution_count": 25,
   "metadata": {},
   "outputs": [
    {
     "data": {
      "text/plain": [
       "(153, 8)"
      ]
     },
     "execution_count": 25,
     "metadata": {},
     "output_type": "execute_result"
    }
   ],
   "source": [
    "#Checar si hay numero de sets  repetidas\n",
    "licensed[licensed['set_num'].isnull()].shape"
   ]
  },
  {
   "cell_type": "code",
   "execution_count": 26,
   "metadata": {},
   "outputs": [],
   "source": [
    "#Eliminar los numeros de sets repetidos\n",
    "licensed = licensed.dropna(subset = ['set_num'])"
   ]
  },
  {
   "cell_type": "code",
   "execution_count": 31,
   "metadata": {},
   "outputs": [],
   "source": [
    "#Checar la cantidad de  sets con licencia de star wars\n",
    "star_wars_check = licensed[licensed['parent_theme'] == 'Star Wars']\n",
    "star_wars_check.head()"
   ]
  },
  {
   "cell_type": "code",
   "execution_count": 33,
   "metadata": {},
   "outputs": [
    {
     "data": {
      "text/plain": [
       "(609, 8)"
      ]
     },
     "execution_count": 33,
     "metadata": {},
     "output_type": "execute_result"
    }
   ],
   "source": [
    "star_wars_check.shape"
   ]
  },
  {
   "cell_type": "code",
   "execution_count": 34,
   "metadata": {},
   "outputs": [],
   "source": [
    "#Porcentaje que representa star wars del total de licencias \n",
    "star_wars_percentage = int(star_wars_check.shape[0]/licensed.shape[0]*100)\n",
    "print(star_wars_percentage)"
   ]
  },
  {
   "cell_type": "code",
   "execution_count": 39,
   "metadata": {},
   "outputs": [],
   "source": [
    "#Contar el numero de sets lanzados por año de los distintos temas\n",
    "licensed_sorted = licensed.sort_values('year')\n",
    "licensed_sorted['count'] = 1"
   ]
  },
  {
   "cell_type": "code",
   "execution_count": 41,
   "metadata": {},
   "outputs": [],
   "source": [
    "#Odernar la suma de licencias por año\n",
    "sum_licensed_year = licensed_sorted.groupby(['year', 'parent_theme']).sum().reset_index()\n",
    "sum_licensed_year.head()"
   ]
  },
  {
   "cell_type": "code",
   "execution_count": 52,
   "metadata": {},
   "outputs": [],
   "source": [
    "#Tema con la mayor cantidad de licencias por año | Eliminar duplicados en los años\n",
    "max_licensed = sum_licensed_year.sort_values('count', ascending = False).drop_duplicates(['year'])"
   ]
  },
  {
   "cell_type": "code",
   "execution_count": 63,
   "metadata": {},
   "outputs": [
    {
     "ename": "KeyError",
     "evalue": "\"['set_num', 'theme_name'] not found in axis\"",
     "output_type": "error",
     "traceback": [
      "\u001b[1;31m---------------------------------------------------------------------------\u001b[0m",
      "\u001b[1;31mKeyError\u001b[0m                                  Traceback (most recent call last)",
      "Cell \u001b[1;32mIn[63], line 1\u001b[0m\n\u001b[1;32m----> 1\u001b[0m max_licensed\u001b[39m.\u001b[39;49mdrop([\u001b[39m'\u001b[39;49m\u001b[39mset_num\u001b[39;49m\u001b[39m'\u001b[39;49m, \u001b[39m'\u001b[39;49m\u001b[39mtheme_name\u001b[39;49m\u001b[39m'\u001b[39;49m], axis \u001b[39m=\u001b[39;49m \u001b[39m1\u001b[39;49m, inplace \u001b[39m=\u001b[39;49m \u001b[39mTrue\u001b[39;49;00m)\n",
      "File \u001b[1;32mc:\\Users\\ASUS-72937\\AppData\\Local\\Programs\\Python\\Python311\\Lib\\site-packages\\pandas\\core\\frame.py:5258\u001b[0m, in \u001b[0;36mDataFrame.drop\u001b[1;34m(self, labels, axis, index, columns, level, inplace, errors)\u001b[0m\n\u001b[0;32m   5110\u001b[0m \u001b[39mdef\u001b[39;00m \u001b[39mdrop\u001b[39m(\n\u001b[0;32m   5111\u001b[0m     \u001b[39mself\u001b[39m,\n\u001b[0;32m   5112\u001b[0m     labels: IndexLabel \u001b[39m=\u001b[39m \u001b[39mNone\u001b[39;00m,\n\u001b[1;32m   (...)\u001b[0m\n\u001b[0;32m   5119\u001b[0m     errors: IgnoreRaise \u001b[39m=\u001b[39m \u001b[39m\"\u001b[39m\u001b[39mraise\u001b[39m\u001b[39m\"\u001b[39m,\n\u001b[0;32m   5120\u001b[0m ) \u001b[39m-\u001b[39m\u001b[39m>\u001b[39m DataFrame \u001b[39m|\u001b[39m \u001b[39mNone\u001b[39;00m:\n\u001b[0;32m   5121\u001b[0m \u001b[39m    \u001b[39m\u001b[39m\"\"\"\u001b[39;00m\n\u001b[0;32m   5122\u001b[0m \u001b[39m    Drop specified labels from rows or columns.\u001b[39;00m\n\u001b[0;32m   5123\u001b[0m \n\u001b[1;32m   (...)\u001b[0m\n\u001b[0;32m   5256\u001b[0m \u001b[39m            weight  1.0     0.8\u001b[39;00m\n\u001b[0;32m   5257\u001b[0m \u001b[39m    \"\"\"\u001b[39;00m\n\u001b[1;32m-> 5258\u001b[0m     \u001b[39mreturn\u001b[39;00m \u001b[39msuper\u001b[39;49m()\u001b[39m.\u001b[39;49mdrop(\n\u001b[0;32m   5259\u001b[0m         labels\u001b[39m=\u001b[39;49mlabels,\n\u001b[0;32m   5260\u001b[0m         axis\u001b[39m=\u001b[39;49maxis,\n\u001b[0;32m   5261\u001b[0m         index\u001b[39m=\u001b[39;49mindex,\n\u001b[0;32m   5262\u001b[0m         columns\u001b[39m=\u001b[39;49mcolumns,\n\u001b[0;32m   5263\u001b[0m         level\u001b[39m=\u001b[39;49mlevel,\n\u001b[0;32m   5264\u001b[0m         inplace\u001b[39m=\u001b[39;49minplace,\n\u001b[0;32m   5265\u001b[0m         errors\u001b[39m=\u001b[39;49merrors,\n\u001b[0;32m   5266\u001b[0m     )\n",
      "File \u001b[1;32mc:\\Users\\ASUS-72937\\AppData\\Local\\Programs\\Python\\Python311\\Lib\\site-packages\\pandas\\core\\generic.py:4549\u001b[0m, in \u001b[0;36mNDFrame.drop\u001b[1;34m(self, labels, axis, index, columns, level, inplace, errors)\u001b[0m\n\u001b[0;32m   4547\u001b[0m \u001b[39mfor\u001b[39;00m axis, labels \u001b[39min\u001b[39;00m axes\u001b[39m.\u001b[39mitems():\n\u001b[0;32m   4548\u001b[0m     \u001b[39mif\u001b[39;00m labels \u001b[39mis\u001b[39;00m \u001b[39mnot\u001b[39;00m \u001b[39mNone\u001b[39;00m:\n\u001b[1;32m-> 4549\u001b[0m         obj \u001b[39m=\u001b[39m obj\u001b[39m.\u001b[39;49m_drop_axis(labels, axis, level\u001b[39m=\u001b[39;49mlevel, errors\u001b[39m=\u001b[39;49merrors)\n\u001b[0;32m   4551\u001b[0m \u001b[39mif\u001b[39;00m inplace:\n\u001b[0;32m   4552\u001b[0m     \u001b[39mself\u001b[39m\u001b[39m.\u001b[39m_update_inplace(obj)\n",
      "File \u001b[1;32mc:\\Users\\ASUS-72937\\AppData\\Local\\Programs\\Python\\Python311\\Lib\\site-packages\\pandas\\core\\generic.py:4591\u001b[0m, in \u001b[0;36mNDFrame._drop_axis\u001b[1;34m(self, labels, axis, level, errors, only_slice)\u001b[0m\n\u001b[0;32m   4589\u001b[0m         new_axis \u001b[39m=\u001b[39m axis\u001b[39m.\u001b[39mdrop(labels, level\u001b[39m=\u001b[39mlevel, errors\u001b[39m=\u001b[39merrors)\n\u001b[0;32m   4590\u001b[0m     \u001b[39melse\u001b[39;00m:\n\u001b[1;32m-> 4591\u001b[0m         new_axis \u001b[39m=\u001b[39m axis\u001b[39m.\u001b[39;49mdrop(labels, errors\u001b[39m=\u001b[39;49merrors)\n\u001b[0;32m   4592\u001b[0m     indexer \u001b[39m=\u001b[39m axis\u001b[39m.\u001b[39mget_indexer(new_axis)\n\u001b[0;32m   4594\u001b[0m \u001b[39m# Case for non-unique axis\u001b[39;00m\n\u001b[0;32m   4595\u001b[0m \u001b[39melse\u001b[39;00m:\n",
      "File \u001b[1;32mc:\\Users\\ASUS-72937\\AppData\\Local\\Programs\\Python\\Python311\\Lib\\site-packages\\pandas\\core\\indexes\\base.py:6699\u001b[0m, in \u001b[0;36mIndex.drop\u001b[1;34m(self, labels, errors)\u001b[0m\n\u001b[0;32m   6697\u001b[0m \u001b[39mif\u001b[39;00m mask\u001b[39m.\u001b[39many():\n\u001b[0;32m   6698\u001b[0m     \u001b[39mif\u001b[39;00m errors \u001b[39m!=\u001b[39m \u001b[39m\"\u001b[39m\u001b[39mignore\u001b[39m\u001b[39m\"\u001b[39m:\n\u001b[1;32m-> 6699\u001b[0m         \u001b[39mraise\u001b[39;00m \u001b[39mKeyError\u001b[39;00m(\u001b[39mf\u001b[39m\u001b[39m\"\u001b[39m\u001b[39m{\u001b[39;00m\u001b[39mlist\u001b[39m(labels[mask])\u001b[39m}\u001b[39;00m\u001b[39m not found in axis\u001b[39m\u001b[39m\"\u001b[39m)\n\u001b[0;32m   6700\u001b[0m     indexer \u001b[39m=\u001b[39m indexer[\u001b[39m~\u001b[39mmask]\n\u001b[0;32m   6701\u001b[0m \u001b[39mreturn\u001b[39;00m \u001b[39mself\u001b[39m\u001b[39m.\u001b[39mdelete(indexer)\n",
      "\u001b[1;31mKeyError\u001b[0m: \"['set_num', 'theme_name'] not found in axis\""
     ]
    }
   ],
   "source": [
    "#Eliminar columnas que no son necesarias para el ejercicio\n",
    "max_licensed.drop(['set_num', 'theme_name'], axis = 1, inplace = True)"
   ]
  },
  {
   "cell_type": "code",
   "execution_count": 65,
   "metadata": {},
   "outputs": [
    {
     "data": {
      "text/html": [
       "<div>\n",
       "<style scoped>\n",
       "    .dataframe tbody tr th:only-of-type {\n",
       "        vertical-align: middle;\n",
       "    }\n",
       "\n",
       "    .dataframe tbody tr th {\n",
       "        vertical-align: top;\n",
       "    }\n",
       "\n",
       "    .dataframe thead th {\n",
       "        text-align: right;\n",
       "    }\n",
       "</style>\n",
       "<table border=\"1\" class=\"dataframe\">\n",
       "  <thead>\n",
       "    <tr style=\"text-align: right;\">\n",
       "      <th></th>\n",
       "      <th>year</th>\n",
       "      <th>parent_theme</th>\n",
       "      <th>name_x</th>\n",
       "      <th>num_parts</th>\n",
       "      <th>id</th>\n",
       "      <th>count</th>\n",
       "    </tr>\n",
       "  </thead>\n",
       "  <tbody>\n",
       "    <tr>\n",
       "      <th>82</th>\n",
       "      <td>2017</td>\n",
       "      <td>Super Heroes</td>\n",
       "      <td>Wonder Woman\" Warrior BattleBatmanThe MilanoTh...</td>\n",
       "      <td>13123.0</td>\n",
       "      <td>34704</td>\n",
       "      <td>72</td>\n",
       "    </tr>\n",
       "    <tr>\n",
       "      <th>76</th>\n",
       "      <td>2016</td>\n",
       "      <td>Star Wars</td>\n",
       "      <td>Krennic’s Imperial ShuttleCaptain Rex’s AT-TED...</td>\n",
       "      <td>6934.0</td>\n",
       "      <td>9638</td>\n",
       "      <td>61</td>\n",
       "    </tr>\n",
       "    <tr>\n",
       "      <th>67</th>\n",
       "      <td>2015</td>\n",
       "      <td>Star Wars</td>\n",
       "      <td>Rey's Speeder™SnowspeederMini Slave 1Imperial ...</td>\n",
       "      <td>11410.0</td>\n",
       "      <td>9164</td>\n",
       "      <td>58</td>\n",
       "    </tr>\n",
       "    <tr>\n",
       "      <th>59</th>\n",
       "      <td>2014</td>\n",
       "      <td>Star Wars</td>\n",
       "      <td>Coruscant Police GunshipRepublic AV-7 Anti-Veh...</td>\n",
       "      <td>8293.0</td>\n",
       "      <td>7110</td>\n",
       "      <td>45</td>\n",
       "    </tr>\n",
       "    <tr>\n",
       "      <th>47</th>\n",
       "      <td>2012</td>\n",
       "      <td>Star Wars</td>\n",
       "      <td>Star Wars Super Pack 3 in 1 (9490, 9492, 9496)...</td>\n",
       "      <td>6769.0</td>\n",
       "      <td>6794</td>\n",
       "      <td>43</td>\n",
       "    </tr>\n",
       "    <tr>\n",
       "      <th>32</th>\n",
       "      <td>2009</td>\n",
       "      <td>Star Wars</td>\n",
       "      <td>Venator-Class Republic Attack CruiserGeneral G...</td>\n",
       "      <td>3953.0</td>\n",
       "      <td>6162</td>\n",
       "      <td>39</td>\n",
       "    </tr>\n",
       "    <tr>\n",
       "      <th>52</th>\n",
       "      <td>2013</td>\n",
       "      <td>Star Wars</td>\n",
       "      <td>Republic Troopers vs. Sith TroopersClone Troop...</td>\n",
       "      <td>6159.0</td>\n",
       "      <td>5530</td>\n",
       "      <td>35</td>\n",
       "    </tr>\n",
       "    <tr>\n",
       "      <th>9</th>\n",
       "      <td>2003</td>\n",
       "      <td>Star Wars</td>\n",
       "      <td>Star Wars Miniatures Kit IStar Wars Miniatures...</td>\n",
       "      <td>6660.0</td>\n",
       "      <td>5056</td>\n",
       "      <td>32</td>\n",
       "    </tr>\n",
       "    <tr>\n",
       "      <th>42</th>\n",
       "      <td>2011</td>\n",
       "      <td>Star Wars</td>\n",
       "      <td>Star Wars Super Pack 3 in 1 (7877 7929 7913)St...</td>\n",
       "      <td>3451.0</td>\n",
       "      <td>5056</td>\n",
       "      <td>32</td>\n",
       "    </tr>\n",
       "    <tr>\n",
       "      <th>36</th>\n",
       "      <td>2010</td>\n",
       "      <td>Star Wars</td>\n",
       "      <td>Midi-Scale Imperial Star DestroyerSnowtrooper ...</td>\n",
       "      <td>6003.0</td>\n",
       "      <td>4740</td>\n",
       "      <td>30</td>\n",
       "    </tr>\n",
       "    <tr>\n",
       "      <th>16</th>\n",
       "      <td>2005</td>\n",
       "      <td>Star Wars</td>\n",
       "      <td>ARC-170 StarfighterWookiee AttackJedi Starfigh...</td>\n",
       "      <td>4730.0</td>\n",
       "      <td>4424</td>\n",
       "      <td>28</td>\n",
       "    </tr>\n",
       "    <tr>\n",
       "      <th>6</th>\n",
       "      <td>2002</td>\n",
       "      <td>Star Wars</td>\n",
       "      <td>Jango Fett™Jango Fett's Slave I (Set 7153) wit...</td>\n",
       "      <td>4735.0</td>\n",
       "      <td>4424</td>\n",
       "      <td>28</td>\n",
       "    </tr>\n",
       "    <tr>\n",
       "      <th>2</th>\n",
       "      <td>2000</td>\n",
       "      <td>Star Wars</td>\n",
       "      <td>A-wing FighterStar Wars #2 - Luke/Han/Boba Min...</td>\n",
       "      <td>2580.0</td>\n",
       "      <td>4108</td>\n",
       "      <td>26</td>\n",
       "    </tr>\n",
       "    <tr>\n",
       "      <th>28</th>\n",
       "      <td>2008</td>\n",
       "      <td>Star Wars</td>\n",
       "      <td>Clone Wars Pack - San Diego Comic-Con 2008 Exc...</td>\n",
       "      <td>6865.0</td>\n",
       "      <td>3634</td>\n",
       "      <td>23</td>\n",
       "    </tr>\n",
       "    <tr>\n",
       "      <th>12</th>\n",
       "      <td>2004</td>\n",
       "      <td>Star Wars</td>\n",
       "      <td>Y-wing Attack Starfighter - UCSTIE Fighter and...</td>\n",
       "      <td>1659.0</td>\n",
       "      <td>3160</td>\n",
       "      <td>20</td>\n",
       "    </tr>\n",
       "    <tr>\n",
       "      <th>24</th>\n",
       "      <td>2007</td>\n",
       "      <td>Star Wars</td>\n",
       "      <td>Naboo N-1 Starfighter and Vulture DroidImperia...</td>\n",
       "      <td>11361.0</td>\n",
       "      <td>2528</td>\n",
       "      <td>16</td>\n",
       "    </tr>\n",
       "    <tr>\n",
       "      <th>4</th>\n",
       "      <td>2001</td>\n",
       "      <td>Star Wars</td>\n",
       "      <td>Imperial ShuttleWatto's JunkyardStar Wars Co-P...</td>\n",
       "      <td>2949.0</td>\n",
       "      <td>2212</td>\n",
       "      <td>14</td>\n",
       "    </tr>\n",
       "    <tr>\n",
       "      <th>0</th>\n",
       "      <td>1999</td>\n",
       "      <td>Star Wars</td>\n",
       "      <td>Gungan SubMos Espa PodraceX-wing FighterSnowsp...</td>\n",
       "      <td>1384.0</td>\n",
       "      <td>2054</td>\n",
       "      <td>13</td>\n",
       "    </tr>\n",
       "    <tr>\n",
       "      <th>20</th>\n",
       "      <td>2006</td>\n",
       "      <td>Star Wars</td>\n",
       "      <td>Vader's TIE Advanced - UCSImperial AT-ST - UCS...</td>\n",
       "      <td>2769.0</td>\n",
       "      <td>1738</td>\n",
       "      <td>11</td>\n",
       "    </tr>\n",
       "  </tbody>\n",
       "</table>\n",
       "</div>"
      ],
      "text/plain": [
       "    year  parent_theme                                             name_x  \\\n",
       "82  2017  Super Heroes  Wonder Woman\" Warrior BattleBatmanThe MilanoTh...   \n",
       "76  2016     Star Wars  Krennic’s Imperial ShuttleCaptain Rex’s AT-TED...   \n",
       "67  2015     Star Wars  Rey's Speeder™SnowspeederMini Slave 1Imperial ...   \n",
       "59  2014     Star Wars  Coruscant Police GunshipRepublic AV-7 Anti-Veh...   \n",
       "47  2012     Star Wars  Star Wars Super Pack 3 in 1 (9490, 9492, 9496)...   \n",
       "32  2009     Star Wars  Venator-Class Republic Attack CruiserGeneral G...   \n",
       "52  2013     Star Wars  Republic Troopers vs. Sith TroopersClone Troop...   \n",
       "9   2003     Star Wars  Star Wars Miniatures Kit IStar Wars Miniatures...   \n",
       "42  2011     Star Wars  Star Wars Super Pack 3 in 1 (7877 7929 7913)St...   \n",
       "36  2010     Star Wars  Midi-Scale Imperial Star DestroyerSnowtrooper ...   \n",
       "16  2005     Star Wars  ARC-170 StarfighterWookiee AttackJedi Starfigh...   \n",
       "6   2002     Star Wars  Jango Fett™Jango Fett's Slave I (Set 7153) wit...   \n",
       "2   2000     Star Wars  A-wing FighterStar Wars #2 - Luke/Han/Boba Min...   \n",
       "28  2008     Star Wars  Clone Wars Pack - San Diego Comic-Con 2008 Exc...   \n",
       "12  2004     Star Wars  Y-wing Attack Starfighter - UCSTIE Fighter and...   \n",
       "24  2007     Star Wars  Naboo N-1 Starfighter and Vulture DroidImperia...   \n",
       "4   2001     Star Wars  Imperial ShuttleWatto's JunkyardStar Wars Co-P...   \n",
       "0   1999     Star Wars  Gungan SubMos Espa PodraceX-wing FighterSnowsp...   \n",
       "20  2006     Star Wars  Vader's TIE Advanced - UCSImperial AT-ST - UCS...   \n",
       "\n",
       "    num_parts     id  count  \n",
       "82    13123.0  34704     72  \n",
       "76     6934.0   9638     61  \n",
       "67    11410.0   9164     58  \n",
       "59     8293.0   7110     45  \n",
       "47     6769.0   6794     43  \n",
       "32     3953.0   6162     39  \n",
       "52     6159.0   5530     35  \n",
       "9      6660.0   5056     32  \n",
       "42     3451.0   5056     32  \n",
       "36     6003.0   4740     30  \n",
       "16     4730.0   4424     28  \n",
       "6      4735.0   4424     28  \n",
       "2      2580.0   4108     26  \n",
       "28     6865.0   3634     23  \n",
       "12     1659.0   3160     20  \n",
       "24    11361.0   2528     16  \n",
       "4      2949.0   2212     14  \n",
       "0      1384.0   2054     13  \n",
       "20     2769.0   1738     11  "
      ]
     },
     "execution_count": 65,
     "metadata": {},
     "output_type": "execute_result"
    }
   ],
   "source": [
    "#Establecer el order con la mayor cantidad de licencias por año\n",
    "max_licensed.sort_values('count', ascending = False)"
   ]
  }
 ],
 "metadata": {
  "kernelspec": {
   "display_name": "Python 3",
   "language": "python",
   "name": "python3"
  },
  "language_info": {
   "codemirror_mode": {
    "name": "ipython",
    "version": 3
   },
   "file_extension": ".py",
   "mimetype": "text/x-python",
   "name": "python",
   "nbconvert_exporter": "python",
   "pygments_lexer": "ipython3",
   "version": "3.11.4"
  },
  "orig_nbformat": 4
 },
 "nbformat": 4,
 "nbformat_minor": 2
}
